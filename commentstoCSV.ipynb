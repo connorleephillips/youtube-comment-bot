{
 "cells": [
  {
   "cell_type": "code",
   "execution_count": 47,
   "metadata": {},
   "outputs": [],
   "source": [
    "import pandas as pd\n",
    "\n",
    "\n",
    "comments =  open('comments.txt', encoding='utf8').read()\n",
    "C = comments.split('¬¬¬')\n",
    "Names = []\n",
    "Comments=[]\n",
    "\n",
    "\n",
    "for x in range(0,3070,2):\n",
    "    Names.append(C[x])\n",
    "\n",
    "for x in range(1,3071,2):\n",
    "    Comments.append(C[x])\n",
    "\n",
    "df = pd.DataFrame({'Names':Names, 'Comments':Comments})\n",
    "\n",
    "df.to_csv(\"NagoyaComments.csv\")\n",
    "\n"
   ]
  },
  {
   "cell_type": "code",
   "execution_count": null,
   "metadata": {},
   "outputs": [],
   "source": []
  }
 ],
 "metadata": {
  "kernelspec": {
   "display_name": "Python 3",
   "language": "python",
   "name": "python3"
  },
  "language_info": {
   "codemirror_mode": {
    "name": "ipython",
    "version": 3
   },
   "file_extension": ".py",
   "mimetype": "text/x-python",
   "name": "python",
   "nbconvert_exporter": "python",
   "pygments_lexer": "ipython3",
   "version": "3.8.5"
  }
 },
 "nbformat": 4,
 "nbformat_minor": 4
}
